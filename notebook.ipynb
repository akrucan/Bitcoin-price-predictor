{
 "cells": [
  {
   "cell_type": "markdown",
   "metadata": {},
   "source": [
    "LSTM (Long Short-Term Memory) to rodzaj sieci neuronowej rekurencyjnej (RNN), zaprojektowany specjalnie do uczenia się długoterminowych zależności. W przeciwieństwie do standardowych RNN, które mają problemy z zapamiętywaniem informacji przez długi czas, LSTM posiada specjalne mechanizmy, które pozwalają mu skutecznie przechowywać informacje przez dłuższe okresy."
   ]
  },
  {
   "cell_type": "markdown",
   "metadata": {},
   "source": [
    "Na początku programu dokonuje się importu wykorzystywanych bibliotek oraz wczytanie danych z pliku json, który zawiera informacje o cenach Bitcoina w określonym czasie. Dane te są umieszcane w strukturze danych pandas."
   ]
  },
  {
   "cell_type": "code",
   "execution_count": 6,
   "metadata": {},
   "outputs": [
    {
     "name": "stdout",
     "output_type": "stream",
     "text": [
      "                 0             1\n",
      "0    1644854619962  37728.533196\n",
      "1    1644854904761  37806.563867\n",
      "2    1644855315131  37795.844325\n",
      "3    1644855612748  37891.227749\n",
      "4    1644855886749  37865.753678\n",
      "..             ...           ...\n",
      "284  1644939888617  39009.158517\n",
      "285  1644940143110  39037.731683\n",
      "286  1644940419895  38990.516247\n",
      "287  1644940680835  39007.761138\n",
      "288  1644940815000  38998.026291\n",
      "\n",
      "[289 rows x 2 columns]\n"
     ]
    }
   ],
   "source": [
    "import json\n",
    "import tensorflow as tf\n",
    "import numpy as np\n",
    "import matplotlib.pyplot as plt\n",
    "import pandas as pd\n",
    "from sklearn.preprocessing import MinMaxScaler\n",
    "\n",
    "jsonData = json.load(open('dailyBTC.json', encoding=\"utf-8\"))\n",
    "    \n",
    "data = pd.DataFrame(jsonData['prices'][:data_size])\n",
    "data.rename(columns={0: 'DateTime', 1: 'Price'}, inplace=True)\n",
    "\n",
    "data.index = pd.to_datetime(data['DateTime'])\n",
    "data = data.drop(columns=['DateTime'])\n"
   ]
  },
  {
   "cell_type": "markdown",
   "metadata": {},
   "source": [
    "Konfigurowalne wartości:\n",
    "\n",
    "Długość sekwencji (seq_length) odnosi się do liczby przeszłych kroków czasowych w jednej sekwencji danych, które należy brać pod uwagę.\n",
    "\n",
    "Epoka (epoch) - jeden pełny cykl przejścia przez cały zbiór treningowy. Podczas jednej epoki, model przetwarza każdą próbkę z danych treningowych dokładnie jeden raz.\n",
    "\n",
    "Rozmiar wsadu (batch_size) - dane treningowe są często dzielone na mniejsze partie. zwane wsadami (batches). Rozmiar wsadu określa, ile próbek jest przetwarzanych przed aktualizacją wag. Liczba iteracji w jednej epoce jest równa liczbie wsadów.\n",
    "\n",
    "Rozmiar danych - ilość danych wykorzystanych podczas wykonywania programu. W tym wypadku określa z jakiego okresu powinny zostać wykorzystane dane.\n"
   ]
  },
  {
   "cell_type": "code",
   "execution_count": 7,
   "metadata": {},
   "outputs": [],
   "source": [
    "seq_length = 20\n",
    "epochs = 100\n",
    "batch_size = 40\n",
    "data_size = 400"
   ]
  },
  {
   "cell_type": "markdown",
   "metadata": {},
   "source": [
    "Normalizacja jest jest ważnym krokiem w przetwarzaniu danych przed treningiem modelu, ponieważ przyspiesza i stabilizuje proces uczenia.\n",
    "- **MinMaxScaler()**: Skaluje dane do zakresu [0, 1] (domyślnie).\n",
    "- **fit_transform(data)**: Dopasowuje skalera do danych i jednocześnie przekształca dane.\n",
    "#### Wzór:\n",
    "x' = x - min / (max - min)"
   ]
  },
  {
   "cell_type": "code",
   "execution_count": null,
   "metadata": {},
   "outputs": [],
   "source": [
    "scaler = MinMaxScaler()\n",
    "scaled_data = scaler.fit_transform(data)"
   ]
  },
  {
   "cell_type": "markdown",
   "metadata": {},
   "source": [
    "#### Podział danych na zbiory treningowe i testowe\n",
    "- **train_size**: Liczba próbek w zbiorze treningowym (80% całego zestawu danych).\n",
    "- **train_data**: Zbiór treningowy zawierający pierwsze 80% danych.\n",
    "- **test_data**: Zbiór testowy zawierający pozostałe 20% danych."
   ]
  },
  {
   "cell_type": "code",
   "execution_count": 8,
   "metadata": {},
   "outputs": [],
   "source": [
    "train_size = int(len(scaled_data) * 0.8)\n",
    "train_data = scaled_data[:train_size]\n",
    "test_data = scaled_data[train_size:]"
   ]
  },
  {
   "cell_type": "markdown",
   "metadata": {},
   "source": [
    "### Tworzenie sekwencji\n",
    "\n",
    "Sekwencje danych są tworzone do trenowania modelu LSTM.\n",
    "\n",
    "#### Wyjaśnienie:\n",
    "- **create_sequences(data, seq_length)**: Funkcja do tworzenia sekwencji danych i etykiet.\n",
    "  - **X**: Lista sekwencji wejściowych.\n",
    "  - **y**: Lista wartości docelowych (etykiet).\n",
    "- **seq_length**: Długość każdej sekwencji.\n",
    "- **np.array()**: Konwersja list na tablice numpy."
   ]
  },
  {
   "cell_type": "code",
   "execution_count": 9,
   "metadata": {},
   "outputs": [],
   "source": [
    "def create_sequences(data, seq_length):\n",
    "    X, y = [], []\n",
    "    for i in range(len(data) - seq_length):\n",
    "        X.append(data[i:i+seq_length])\n",
    "        y.append(data[i+seq_length])\n",
    "    return np.array(X), np.array(y)\n",
    "\n",
    "X_train, y_train = create_sequences(train_data, seq_length)\n",
    "X_test, y_test = create_sequences(test_data, seq_length)"
   ]
  },
  {
   "cell_type": "markdown",
   "metadata": {},
   "source": [
    "### Model LSTM\n",
    "\n",
    "Tworzenie i kompilacja modelu LSTM:\n",
    "- **tf.keras.Sequential**: Inicjalizuje sekwencyjny model Keras.\n",
    "- **tf.keras.layers.LSTM(50, activation='relu', input_shape=(seq_length, 1))**: Dodaje warstwę LSTM z 50 jednostkami i funkcją aktywacji ReLU. **input_shape** określa kształt wejściowy (długość sekwencji, liczba cech).\n",
    "- **tf.keras.layers.Dense(1)**: Dodaje w pełni połączoną warstwę wyjściową z jedną jednostką.\n",
    "- **compile(optimizer='adam', loss='mean_absolute_error')**: Kompiluje model z optymalizatorem Adam i funkcją straty MAE."
   ]
  },
  {
   "cell_type": "code",
   "execution_count": 10,
   "metadata": {},
   "outputs": [
    {
     "name": "stdout",
     "output_type": "stream",
     "text": [
      "Epoch 1/100\n",
      "6/6 [==============================] - 1s 3ms/step - loss: 0.4090\n",
      "Epoch 2/100\n",
      "6/6 [==============================] - 0s 3ms/step - loss: 0.3251\n",
      "Epoch 3/100\n",
      "6/6 [==============================] - 0s 3ms/step - loss: 0.2196\n",
      "Epoch 4/100\n",
      "6/6 [==============================] - 0s 19ms/step - loss: 0.1055\n",
      "Epoch 5/100\n",
      "6/6 [==============================] - 0s 3ms/step - loss: 0.0986\n",
      "Epoch 6/100\n",
      "6/6 [==============================] - 0s 3ms/step - loss: 0.0857\n",
      "Epoch 7/100\n",
      "6/6 [==============================] - 0s 3ms/step - loss: 0.0646\n",
      "Epoch 8/100\n",
      "6/6 [==============================] - 0s 3ms/step - loss: 0.0564\n",
      "Epoch 9/100\n",
      "6/6 [==============================] - 0s 3ms/step - loss: 0.0488\n",
      "Epoch 10/100\n",
      "6/6 [==============================] - 0s 3ms/step - loss: 0.0444\n",
      "Epoch 11/100\n",
      "6/6 [==============================] - 0s 3ms/step - loss: 0.0436\n",
      "Epoch 12/100\n",
      "6/6 [==============================] - 0s 3ms/step - loss: 0.0434\n",
      "Epoch 13/100\n",
      "6/6 [==============================] - 0s 3ms/step - loss: 0.0434\n",
      "Epoch 14/100\n",
      "6/6 [==============================] - 0s 3ms/step - loss: 0.0418\n",
      "Epoch 15/100\n",
      "6/6 [==============================] - 0s 3ms/step - loss: 0.0433\n",
      "Epoch 16/100\n",
      "6/6 [==============================] - 0s 3ms/step - loss: 0.0411\n",
      "Epoch 17/100\n",
      "6/6 [==============================] - 0s 3ms/step - loss: 0.0405\n",
      "Epoch 18/100\n",
      "6/6 [==============================] - 0s 3ms/step - loss: 0.0395\n",
      "Epoch 19/100\n",
      "6/6 [==============================] - 0s 3ms/step - loss: 0.0392\n",
      "Epoch 20/100\n",
      "6/6 [==============================] - 0s 3ms/step - loss: 0.0410\n",
      "Epoch 21/100\n",
      "6/6 [==============================] - 0s 5ms/step - loss: 0.0405\n",
      "Epoch 22/100\n",
      "6/6 [==============================] - 0s 3ms/step - loss: 0.0423\n",
      "Epoch 23/100\n",
      "6/6 [==============================] - 0s 3ms/step - loss: 0.0407\n",
      "Epoch 24/100\n",
      "6/6 [==============================] - 0s 3ms/step - loss: 0.0404\n",
      "Epoch 25/100\n",
      "6/6 [==============================] - 0s 3ms/step - loss: 0.0375\n",
      "Epoch 26/100\n",
      "6/6 [==============================] - 0s 3ms/step - loss: 0.0375\n",
      "Epoch 27/100\n",
      "6/6 [==============================] - 0s 3ms/step - loss: 0.0351\n",
      "Epoch 28/100\n",
      "6/6 [==============================] - 0s 3ms/step - loss: 0.0349\n",
      "Epoch 29/100\n",
      "6/6 [==============================] - 0s 3ms/step - loss: 0.0340\n",
      "Epoch 30/100\n",
      "6/6 [==============================] - 0s 3ms/step - loss: 0.0335\n",
      "Epoch 31/100\n",
      "6/6 [==============================] - 0s 3ms/step - loss: 0.0332\n",
      "Epoch 32/100\n",
      "6/6 [==============================] - 0s 3ms/step - loss: 0.0346\n",
      "Epoch 33/100\n",
      "6/6 [==============================] - 0s 3ms/step - loss: 0.0339\n",
      "Epoch 34/100\n",
      "6/6 [==============================] - 0s 3ms/step - loss: 0.0329\n",
      "Epoch 35/100\n",
      "6/6 [==============================] - 0s 3ms/step - loss: 0.0318\n",
      "Epoch 36/100\n",
      "6/6 [==============================] - 0s 3ms/step - loss: 0.0318\n",
      "Epoch 37/100\n",
      "6/6 [==============================] - 0s 3ms/step - loss: 0.0317\n",
      "Epoch 38/100\n",
      "6/6 [==============================] - 0s 3ms/step - loss: 0.0319\n",
      "Epoch 39/100\n",
      "6/6 [==============================] - 0s 3ms/step - loss: 0.0355\n",
      "Epoch 40/100\n",
      "6/6 [==============================] - 0s 3ms/step - loss: 0.0341\n",
      "Epoch 41/100\n",
      "6/6 [==============================] - 0s 3ms/step - loss: 0.0376\n",
      "Epoch 42/100\n",
      "6/6 [==============================] - 0s 3ms/step - loss: 0.0350\n",
      "Epoch 43/100\n",
      "6/6 [==============================] - 0s 3ms/step - loss: 0.0406\n",
      "Epoch 44/100\n",
      "6/6 [==============================] - 0s 3ms/step - loss: 0.0381\n",
      "Epoch 45/100\n",
      "6/6 [==============================] - 0s 3ms/step - loss: 0.0357\n",
      "Epoch 46/100\n",
      "6/6 [==============================] - 0s 3ms/step - loss: 0.0332\n",
      "Epoch 47/100\n",
      "6/6 [==============================] - 0s 3ms/step - loss: 0.0341\n",
      "Epoch 48/100\n",
      "6/6 [==============================] - 0s 4ms/step - loss: 0.0312\n",
      "Epoch 49/100\n",
      "6/6 [==============================] - 0s 3ms/step - loss: 0.0309\n",
      "Epoch 50/100\n",
      "6/6 [==============================] - 0s 3ms/step - loss: 0.0312\n",
      "Epoch 51/100\n",
      "6/6 [==============================] - 0s 3ms/step - loss: 0.0323\n",
      "Epoch 52/100\n",
      "6/6 [==============================] - 0s 3ms/step - loss: 0.0314\n",
      "Epoch 53/100\n",
      "6/6 [==============================] - 0s 3ms/step - loss: 0.0326\n",
      "Epoch 54/100\n",
      "6/6 [==============================] - 0s 3ms/step - loss: 0.0317\n",
      "Epoch 55/100\n",
      "6/6 [==============================] - 0s 3ms/step - loss: 0.0324\n",
      "Epoch 56/100\n",
      "6/6 [==============================] - 0s 3ms/step - loss: 0.0311\n",
      "Epoch 57/100\n",
      "6/6 [==============================] - 0s 3ms/step - loss: 0.0311\n",
      "Epoch 58/100\n",
      "6/6 [==============================] - 0s 3ms/step - loss: 0.0345\n",
      "Epoch 59/100\n",
      "6/6 [==============================] - 0s 3ms/step - loss: 0.0325\n",
      "Epoch 60/100\n",
      "6/6 [==============================] - 0s 3ms/step - loss: 0.0314\n",
      "Epoch 61/100\n",
      "6/6 [==============================] - 0s 3ms/step - loss: 0.0335\n",
      "Epoch 62/100\n",
      "6/6 [==============================] - 0s 3ms/step - loss: 0.0300\n",
      "Epoch 63/100\n",
      "6/6 [==============================] - 0s 3ms/step - loss: 0.0296\n",
      "Epoch 64/100\n",
      "6/6 [==============================] - 0s 3ms/step - loss: 0.0295\n",
      "Epoch 65/100\n",
      "6/6 [==============================] - 0s 3ms/step - loss: 0.0318\n",
      "Epoch 66/100\n",
      "6/6 [==============================] - 0s 3ms/step - loss: 0.0311\n",
      "Epoch 67/100\n",
      "6/6 [==============================] - 0s 2ms/step - loss: 0.0305\n",
      "Epoch 68/100\n",
      "6/6 [==============================] - 0s 3ms/step - loss: 0.0304\n",
      "Epoch 69/100\n",
      "6/6 [==============================] - 0s 3ms/step - loss: 0.0295\n",
      "Epoch 70/100\n",
      "6/6 [==============================] - 0s 3ms/step - loss: 0.0293\n",
      "Epoch 71/100\n",
      "6/6 [==============================] - 0s 3ms/step - loss: 0.0298\n",
      "Epoch 72/100\n",
      "6/6 [==============================] - 0s 3ms/step - loss: 0.0310\n",
      "Epoch 73/100\n",
      "6/6 [==============================] - 0s 3ms/step - loss: 0.0309\n",
      "Epoch 74/100\n",
      "6/6 [==============================] - 0s 3ms/step - loss: 0.0303\n",
      "Epoch 75/100\n",
      "6/6 [==============================] - 0s 3ms/step - loss: 0.0303\n",
      "Epoch 76/100\n",
      "6/6 [==============================] - 0s 3ms/step - loss: 0.0315\n",
      "Epoch 77/100\n",
      "6/6 [==============================] - 0s 3ms/step - loss: 0.0310\n",
      "Epoch 78/100\n",
      "6/6 [==============================] - 0s 3ms/step - loss: 0.0287\n",
      "Epoch 79/100\n",
      "6/6 [==============================] - 0s 4ms/step - loss: 0.0285\n",
      "Epoch 80/100\n",
      "6/6 [==============================] - 0s 3ms/step - loss: 0.0292\n",
      "Epoch 81/100\n",
      "6/6 [==============================] - 0s 3ms/step - loss: 0.0291\n",
      "Epoch 82/100\n",
      "6/6 [==============================] - 0s 3ms/step - loss: 0.0291\n",
      "Epoch 83/100\n",
      "6/6 [==============================] - 0s 3ms/step - loss: 0.0300\n",
      "Epoch 84/100\n",
      "6/6 [==============================] - 0s 3ms/step - loss: 0.0302\n",
      "Epoch 85/100\n",
      "6/6 [==============================] - 0s 3ms/step - loss: 0.0288\n",
      "Epoch 86/100\n",
      "6/6 [==============================] - 0s 3ms/step - loss: 0.0284\n",
      "Epoch 87/100\n",
      "6/6 [==============================] - 0s 3ms/step - loss: 0.0280\n",
      "Epoch 88/100\n",
      "6/6 [==============================] - 0s 3ms/step - loss: 0.0296\n",
      "Epoch 89/100\n",
      "6/6 [==============================] - 0s 3ms/step - loss: 0.0300\n",
      "Epoch 90/100\n",
      "6/6 [==============================] - 0s 3ms/step - loss: 0.0282\n",
      "Epoch 91/100\n",
      "6/6 [==============================] - 0s 3ms/step - loss: 0.0282\n",
      "Epoch 92/100\n",
      "6/6 [==============================] - 0s 3ms/step - loss: 0.0278\n",
      "Epoch 93/100\n",
      "6/6 [==============================] - 0s 3ms/step - loss: 0.0294\n",
      "Epoch 94/100\n",
      "6/6 [==============================] - 0s 3ms/step - loss: 0.0299\n",
      "Epoch 95/100\n",
      "6/6 [==============================] - 0s 3ms/step - loss: 0.0306\n",
      "Epoch 96/100\n",
      "6/6 [==============================] - 0s 3ms/step - loss: 0.0319\n",
      "Epoch 97/100\n",
      "6/6 [==============================] - 0s 3ms/step - loss: 0.0317\n",
      "Epoch 98/100\n",
      "6/6 [==============================] - 0s 3ms/step - loss: 0.0286\n",
      "Epoch 99/100\n",
      "6/6 [==============================] - 0s 2ms/step - loss: 0.0284\n",
      "Epoch 100/100\n",
      "6/6 [==============================] - 0s 3ms/step - loss: 0.0297\n"
     ]
    },
    {
     "data": {
      "text/plain": [
       "<keras.src.callbacks.History at 0x26ff3189350>"
      ]
     },
     "execution_count": 10,
     "metadata": {},
     "output_type": "execute_result"
    }
   ],
   "source": [
    "model = tf.keras.Sequential([\n",
    "    tf.keras.layers.LSTM(50, activation='relu', input_shape=(seq_length, 1)),\n",
    "    tf.keras.layers.Dense(1)\n",
    "])\n",
    "\n",
    "model.compile(optimizer='adam', loss='mean_absolute_error')"
   ]
  },
  {
   "cell_type": "markdown",
   "metadata": {},
   "source": [
    "#### Trening modelu na zbiorze treningowym:\n",
    "- **fit(X_train, y_train, epochs=epochs, batch_size=batch_size, verbose=1)**: Trenuje model na danych treningowych.\n",
    "  - **epochs**: Liczba epok treningowych.\n",
    "  - **batch_size**: Wielkość partii danych.\n",
    "  - **verbose**: Poziom szczegółowości wypisywanych informacji podczas treningu (1 = szczegółowe informacje)."
   ]
  },
  {
   "cell_type": "code",
   "execution_count": null,
   "metadata": {},
   "outputs": [],
   "source": [
    "model.fit(X_train, y_train, epochs=epochs, batch_size=batch_size, verbose=1)"
   ]
  },
  {
   "cell_type": "markdown",
   "metadata": {},
   "source": [
    "### Przewidywanie wyników modelu ###\n",
    "\n",
    "- **predict(x, batch_size, verbose, steps, callbacks)**: Podaje wyniki wytrenowane modelu na podstawie danych wejściowych\n",
    "    - **x**: Dane wejściowe.\n",
    "    - **batch_size**: Liczba próbek na wsad.\n",
    "    - **verbose**: Rodzaj tekstu wywoływanego do terminalu (0 - nic, 1 - progress bar, 2 - pojedyncza linijka).\n",
    "    - **steps**: Ilość kroków (wsadów próbek).\n",
    "    - **callbacks**: Lista wywołań zwrotnych, jakie ma wywoływać program."
   ]
  },
  {
   "cell_type": "code",
   "execution_count": 11,
   "metadata": {},
   "outputs": [
    {
     "name": "stdout",
     "output_type": "stream",
     "text": [
      "7/7 [==============================] - 0s 1ms/step\n",
      "2/2 [==============================] - 0s 2ms/step\n"
     ]
    }
   ],
   "source": [
    "# Make predictions\n",
    "train_predictions = model.predict(X_train)\n",
    "test_predictions = model.predict(X_test)\n",
    "\n",
    "# Inverse transform the predictions\n",
    "train_predictions = scaler.inverse_transform(train_predictions)\n",
    "test_predictions = scaler.inverse_transform(test_predictions)"
   ]
  },
  {
   "cell_type": "markdown",
   "metadata": {},
   "source": [
    "Wykorzystanie biblioteki matplotlib do prezentacji otrzymanych wyników. Tworzone są kolejno wykresy, które przedstawiają:\n",
    "- dane faktyczne na badanym zbiorze danych\n",
    "- predykcje na podstawie treningowych danych\n",
    "- predykcje otrzymane z wykorzystaniem stworzonego modelu"
   ]
  },
  {
   "cell_type": "code",
   "execution_count": 12,
   "metadata": {},
   "outputs": [
    {
     "data": {
      "image/png": "[encoded data removed]",
      "text/plain": [
       "<Figure size 1000x600 with 1 Axes>"
      ]
     },
     "metadata": {},
     "output_type": "display_data"
    }
   ],
   "source": [
    "plt.figure(figsize=(10, 6))\n",
    "\n",
    "plt.plot(data.index[seq_length:len(data)-seq_length], data['Price'][seq_length:len(data)-seq_length], label='Dane historyczne', color='black')\n",
    "plt.plot(data.index[seq_length:seq_length+len(train_predictions)], train_predictions, label='Predykcje na podstawie danych testowych', color='blue')\n",
    "plt.plot(data.index[range(seq_length+len(train_predictions), seq_length+len(train_predictions)+len(test_predictions))], test_predictions, label='Predykcje', color='red')\n",
    "\n",
    "plt.xlabel('Czas')\n",
    "plt.ylabel('Cena')\n",
    "plt.legend()\n",
    "plt.show()"
   ]
  },
  {
   "cell_type": "markdown",
   "metadata": {},
   "source": [
    "### Źródła:\n",
    "- https://www.geeksforgeeks.org/time-series-forecasting-using-tensorflow/\n",
    "- https://en.wikipedia.org/wiki/Long_short-term_memory"
   ]
  }
 ],
 "metadata": {
  "kernelspec": {
   "display_name": ".venv",
   "language": "python",
   "name": "python3"
  },
  "language_info": {
   "codemirror_mode": {
    "name": "ipython",
    "version": 3
   },
   "file_extension": ".py",
   "mimetype": "text/x-python",
   "name": "python",
   "nbconvert_exporter": "python",
   "pygments_lexer": "ipython3",
   "version": "3.11.3"
  }
 },
 "nbformat": 4,
 "nbformat_minor": 2
}
